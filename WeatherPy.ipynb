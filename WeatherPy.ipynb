{
 "cells": [
  {
   "cell_type": "code",
   "execution_count": 5,
   "id": "a8efeaa1-adb0-482e-b8b2-ba1e38343b94",
   "metadata": {},
   "outputs": [],
   "source": [
    "#importing dependencies\n",
    "import pandas as pd\n",
    "import matplotlib.pyplot as plt\n",
    "import numpy as np\n",
    "from citipy import citipy"
   ]
  },
  {
   "cell_type": "code",
   "execution_count": 11,
   "id": "ba35c7b3-1d3b-410f-ab0d-28dcae7a668d",
   "metadata": {},
   "outputs": [
    {
     "data": {
      "text/plain": [
       "<zip at 0x7fac5323cd40>"
      ]
     },
     "execution_count": 11,
     "metadata": {},
     "output_type": "execute_result"
    }
   ],
   "source": [
    "# creat a set of random latitude and longitude combinations\n",
    "lats = np.random.uniform(low=-90.000, high = 90.000, size = 1500)\n",
    "lngs = np.random.uniform(low = -180.000, high = 180.000, size =1500)\n",
    "lat_lngs = zip(lats, lngs)\n",
    "lat_lngs"
   ]
  },
  {
   "cell_type": "code",
   "execution_count": 12,
   "id": "4e4e1dcf-be63-409a-9618-95bd79d65e53",
   "metadata": {},
   "outputs": [],
   "source": [
    "# add the latitudes and the longitudes to a list\n",
    "coordinates = list(lat_lngs)"
   ]
  },
  {
   "cell_type": "code",
   "execution_count": 16,
   "id": "4acc5492-357d-4095-bf1f-2e228a3e87f4",
   "metadata": {},
   "outputs": [
    {
     "ename": "SyntaxError",
     "evalue": "invalid syntax (<ipython-input-16-367def8cb84a>, line 6)",
     "output_type": "error",
     "traceback": [
      "\u001b[0;36m  File \u001b[0;32m\"<ipython-input-16-367def8cb84a>\"\u001b[0;36m, line \u001b[0;32m6\u001b[0m\n\u001b[0;31m    if city not in cities:\u001b[0m\n\u001b[0m                         ^\u001b[0m\n\u001b[0;31mSyntaxError\u001b[0m\u001b[0;31m:\u001b[0m invalid syntax\n"
     ]
    }
   ],
   "source": [
    "# use the tuple fucntion to display the latitude and longitude combiniations\n",
    "cities = []\n",
    "for coordinate in coordinates:\n",
    "    city = (citipy.nearest_city(coordinate[0],coordinate[1]).city_name\n",
    "    # if the city is unique then we will add it to the cities list\n",
    "    if city not in cities:\n",
    "            cities.appendy(city)"
   ]
  },
  {
   "cell_type": "code",
   "execution_count": null,
   "id": "9ab1c9c6-1117-453a-ab00-f933473973ac",
   "metadata": {},
   "outputs": [],
   "source": []
  }
 ],
 "metadata": {
  "kernelspec": {
   "display_name": "PythonData",
   "language": "python",
   "name": "pythondata"
  },
  "language_info": {
   "codemirror_mode": {
    "name": "ipython",
    "version": 3
   },
   "file_extension": ".py",
   "mimetype": "text/x-python",
   "name": "python",
   "nbconvert_exporter": "python",
   "pygments_lexer": "ipython3",
   "version": "3.8.8"
  }
 },
 "nbformat": 4,
 "nbformat_minor": 5
}
